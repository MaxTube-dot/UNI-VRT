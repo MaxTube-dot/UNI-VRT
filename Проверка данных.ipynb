{
 "cells": [
  {
   "cell_type": "code",
   "execution_count": 1,
   "id": "4eaa007e-5b41-4ad8-b3d5-54c0900cfedd",
   "metadata": {
    "execution": {
     "iopub.execute_input": "2023-11-25T09:19:04.577458Z",
     "iopub.status.busy": "2023-11-25T09:19:04.576594Z",
     "iopub.status.idle": "2023-11-25T09:19:08.599108Z",
     "shell.execute_reply": "2023-11-25T09:19:08.598125Z",
     "shell.execute_reply.started": "2023-11-25T09:19:04.577416Z"
    },
    "tags": []
   },
   "outputs": [],
   "source": [
    "import math\n",
    "import os\n",
    "from ultralytics import YOLO\n",
    "import cv2\n",
    "import numpy as np\n",
    "from collections import defaultdict\n",
    "import json\n",
    "import matplotlib.path as mplPath"
   ]
  },
  {
   "cell_type": "code",
   "execution_count": 2,
   "id": "b6d7095d-c845-48ae-ab9e-0e8e82c036e6",
   "metadata": {
    "execution": {
     "iopub.execute_input": "2023-11-25T09:19:08.601540Z",
     "iopub.status.busy": "2023-11-25T09:19:08.600332Z",
     "iopub.status.idle": "2023-11-25T09:19:08.613816Z",
     "shell.execute_reply": "2023-11-25T09:19:08.613037Z",
     "shell.execute_reply.started": "2023-11-25T09:19:08.601488Z"
    }
   },
   "outputs": [],
   "source": [
    "# Шаг кадра\n",
    "FRAME_STEP = 3\n",
    "\n",
    "# Путь до модели YOLO\n",
    "MODEL_PATH = '/home/jupyter/datasphere/project/CERT/best.pt'\n",
    "\n",
    "# Путь для записи файла результатов\n",
    "RESULTS_PATH = '/home/jupyter/datasphere/project/CERT/results.txt'\n",
    "\n",
    "# Путь к файлу задач\n",
    "WORKS_FILE_PATH = 'works.txt'"
   ]
  },
  {
   "cell_type": "code",
   "execution_count": 3,
   "id": "8ca917a7-686c-4dbb-8642-f0db92ec2433",
   "metadata": {
    "execution": {
     "iopub.execute_input": "2023-11-25T09:19:08.616191Z",
     "iopub.status.busy": "2023-11-25T09:19:08.615520Z",
     "iopub.status.idle": "2023-11-25T09:19:08.627689Z",
     "shell.execute_reply": "2023-11-25T09:19:08.626867Z",
     "shell.execute_reply.started": "2023-11-25T09:19:08.616154Z"
    }
   },
   "outputs": [],
   "source": [
    "def convert_to_real_coordinates(coordinates, resolution):\n",
    "    new_coordinates = []\n",
    "\n",
    "    for coord in coordinates:\n",
    "        x = int(coord[0] * resolution[0])\n",
    "        y = int(coord[1] * resolution[1])\n",
    "        new_coordinates.append([x, y])\n",
    "\n",
    "    return new_coordinates"
   ]
  },
  {
   "cell_type": "code",
   "execution_count": 4,
   "id": "ebd2ab5b-8278-444f-9ec5-7cd7d0960e00",
   "metadata": {
    "execution": {
     "iopub.execute_input": "2023-11-25T09:19:08.629696Z",
     "iopub.status.busy": "2023-11-25T09:19:08.628923Z",
     "iopub.status.idle": "2023-11-25T09:19:08.642399Z",
     "shell.execute_reply": "2023-11-25T09:19:08.641474Z",
     "shell.execute_reply.started": "2023-11-25T09:19:08.629652Z"
    },
    "tags": []
   },
   "outputs": [],
   "source": [
    "file = open(WORKS_FILE_PATH, 'r')\n",
    "array_of_video_names = file.read().splitlines()\n",
    "file.close()"
   ]
  },
  {
   "cell_type": "code",
   "execution_count": 5,
   "id": "91b363c3-22cc-4ed7-84af-46c3c6283b79",
   "metadata": {
    "execution": {
     "iopub.execute_input": "2023-11-25T09:19:08.644562Z",
     "iopub.status.busy": "2023-11-25T09:19:08.643751Z",
     "iopub.status.idle": "2023-11-25T09:19:08.667394Z",
     "shell.execute_reply": "2023-11-25T09:19:08.666548Z",
     "shell.execute_reply.started": "2023-11-25T09:19:08.644515Z"
    },
    "tags": []
   },
   "outputs": [
    {
     "name": "stdout",
     "output_type": "stream",
     "text": [
      "['000', '001', '002', '003', '004', '005', '006', '007', '008', '009', '010', '011', '012', '013']\n"
     ]
    }
   ],
   "source": [
    "print(array_of_video_names)"
   ]
  },
  {
   "cell_type": "code",
   "execution_count": null,
   "id": "a3d65529-6d41-4e53-8da9-50ecd7f0f556",
   "metadata": {
    "execution": {
     "iopub.execute_input": "2023-11-25T09:19:08.669563Z",
     "iopub.status.busy": "2023-11-25T09:19:08.668417Z"
    },
    "tags": []
   },
   "outputs": [
    {
     "name": "stdout",
     "output_type": "stream",
     "text": [
      "/home/jupyter/datasphere/project/CERT/markup/jsons/000.json\n",
      "000;320;95.31;12;39.09;8;117.82\n",
      "/home/jupyter/datasphere/project/CERT/markup/jsons/001.json\n",
      "001;362;62.72;48;141.31;18;136.46\n",
      "/home/jupyter/datasphere/project/CERT/markup/jsons/002.json\n",
      "002;262;56.17;21;114.58;8;32.55\n",
      "/home/jupyter/datasphere/project/CERT/markup/jsons/003.json\n"
     ]
    }
   ],
   "source": [
    "for video_name in array_of_video_names:\n",
    "    # Чтение данных из JSON-файла\n",
    "    print(os.path.join('/home/jupyter/datasphere/project/CERT/markup', 'jsons', video_name + '.json'))\n",
    "    json_file = open(os.path.join('/home/jupyter/datasphere/project/CERT/markup', 'jsons', video_name + '.json'))\n",
    "    json_data = json.load(json_file)\n",
    "    areas = json_data['areas']\n",
    "\n",
    "    \n",
    "    # Инициализация модели YOLO\n",
    "    model = YOLO(MODEL_PATH)\n",
    "    model.to('cuda')\n",
    "\n",
    "    # Загрузка видео\n",
    "    cap = cv2.VideoCapture(os.path.join('/home/jupyter/datasphere/project/CERT/video', video_name + '.mp4'))\n",
    "    fps = cap.get(cv2.CAP_PROP_FPS)\n",
    "\n",
    "    # Инициализация структур для хранения истории движения объектов\n",
    "    track_history = defaultdict(lambda: [])\n",
    "\n",
    "    storage = []\n",
    "    class_names = ['tractor', 'bike', 'bus', 'car', 'motorcycle', 'trolleybus', 'truck']\n",
    "\n",
    "    frame_number = 1\n",
    "\n",
    "    frame_size = ()\n",
    "\n",
    "    # Цикл обработки каждого кадра видео\n",
    "    while cap.isOpened():\n",
    "        success, frame = cap.read()\n",
    "\n",
    "        if frame_number == 1:\n",
    "            frame_size = (frame.shape[1], frame.shape[0])\n",
    "\n",
    "\n",
    "\n",
    "        frame_number += 1\n",
    "        if frame_number % FRAME_STEP != 0:\n",
    "            continue\n",
    "\n",
    "        if success:\n",
    "            # Применение модели YOLO для отслеживания объектов на кадре\n",
    "            results = model.track(frame, persist=True, verbose=False)\n",
    "\n",
    "            if results[0].boxes.id is not None:\n",
    "\n",
    "                boxes = results[0].boxes.xywh.cpu()\n",
    "                track_ids = results[0].boxes.id.int().cpu().tolist()\n",
    "                classes = results[0].boxes.cls.int().cpu().tolist()\n",
    "\n",
    "                # Перебор распознанных объектов и их треков\n",
    "                for box, track_id, class_id in zip(boxes, track_ids, classes):\n",
    "                    x, y, w, h = box\n",
    "\n",
    "                    track = track_history[track_id]\n",
    "                    point = (float(x), float(y) + float(h/2))\n",
    "                    track.append(point)\n",
    "\n",
    "                    storage.append((track_id, class_names[class_id], point))\n",
    "\n",
    "                if cv2.waitKey(1) & 0xFF == ord(\"q\"):\n",
    "                    break\n",
    "\n",
    "        else:\n",
    "            break\n",
    "\n",
    "    ids = list(set(item[0] for item in storage))\n",
    "\n",
    "    cars, vans, buses = [], [], []\n",
    "\n",
    "    for id in ids:\n",
    "        desired_objects = [obj for obj in storage if obj[0] == id]\n",
    "\n",
    "        class_count = {}  # создаем пустой словарь для подсчета частоты каждого класса\n",
    "\n",
    "        for item in desired_objects:\n",
    "            class_name = item[1]  # получаем класс из элемента\n",
    "            if class_name in class_count:\n",
    "                class_count[class_name] += 1  # увеличиваем счетчик, если класс уже есть в словаре\n",
    "            else:\n",
    "                class_count[class_name] = 1  # инициализируем счетчик для нового класса\n",
    "\n",
    "        most_common_class = max(class_count, key=class_count.get)  # выбираем класс с наибольшей частотой\n",
    "\n",
    "        class_name = most_common_class\n",
    "        points_array = [item[2] for item in desired_objects]\n",
    "\n",
    "        max_frames = 0\n",
    "\n",
    "        for area in areas:\n",
    "            real_coordinates_areas = convert_to_real_coordinates(area, frame_size)\n",
    "            pts = np.array(real_coordinates_areas, np.int32)\n",
    "\n",
    "            bbPath = mplPath.Path(pts)\n",
    "\n",
    "            start_point, end_point = None, None\n",
    "            track_frames_count = 0\n",
    "\n",
    "            for point in points_array:\n",
    "                if bbPath.contains_point(point):\n",
    "                    track_frames_count += 1\n",
    "                    if start_point is None:\n",
    "                        start_point = point\n",
    "                else:\n",
    "                    if start_point is not None:\n",
    "                        end_point = point\n",
    "\n",
    "            if track_frames_count > max_frames:\n",
    "                max_frames = track_frames_count\n",
    "\n",
    "        speed = 0\n",
    "\n",
    "        if max_frames > 0:\n",
    "            speed = 20 / ((max_frames * FRAME_STEP) / fps) * 3.6\n",
    "\n",
    "            if class_name == 'car':\n",
    "                cars.append(speed)\n",
    "\n",
    "            if class_name == 'bus':\n",
    "                buses.append(speed)\n",
    "\n",
    "            if class_name == 'truck' or class_name == 'tractor':\n",
    "                vans.append(speed)\n",
    "\n",
    "    result = (video_name + ';' + str(len(cars)) + ';' + str(round(np.mean(cars), 2)) + ';' + str(len(vans)) + ';' + str(round(np.mean(vans), 2)) + ';' + str(len(buses)) + ';' + str(round(np.mean(buses), 2)))\n",
    "\n",
    "    print(result)\n",
    "\n",
    "    f = open(RESULTS_PATH, 'a+')  # open file in append mode\n",
    "    f.write(result + '\\n')\n",
    "    f.close()\n",
    "\n",
    "    with open(WORKS_FILE_PATH, 'r') as file:\n",
    "        lines = file.readlines()\n",
    "        # Пропустить первую строку\n",
    "        lines = lines[1:]\n",
    "\n",
    "    with open(WORKS_FILE_PATH, 'w') as file:\n",
    "        file.writelines(lines)\n",
    "\n",
    "    cap.release()\n",
    "    cv2.destroyAllWindows()"
   ]
  }
 ],
 "metadata": {
  "kernelspec": {
   "display_name": "DataSphere Kernel",
   "language": "python",
   "name": "python3"
  },
  "language_info": {
   "codemirror_mode": {
    "name": "ipython",
    "version": 3
   },
   "file_extension": ".py",
   "mimetype": "text/x-python",
   "name": "python",
   "nbconvert_exporter": "python",
   "pygments_lexer": "ipython3",
   "version": "3.7.7"
  }
 },
 "nbformat": 4,
 "nbformat_minor": 5
}
